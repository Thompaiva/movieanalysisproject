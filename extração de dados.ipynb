{
 "cells": [
  {
   "cell_type": "code",
   "execution_count": 1,
   "id": "181d7fb5",
   "metadata": {},
   "outputs": [],
   "source": [
    "import pandas as pd\n",
    "from dotenv import load_dotenv \n",
    "import sqlalchemy as sa\n",
    "import os\n",
    "from requests import HTTPError\n",
    "import numpy as np\n",
    "import json\n",
    "import requests\n"
   ]
  },
  {
   "cell_type": "code",
   "execution_count": 2,
   "id": "cf5bf221",
   "metadata": {},
   "outputs": [],
   "source": [
    "def limpar_filme(dict_movie):\n",
    "    try:\n",
    "        dict_movie_limpo = {}\n",
    "        dict_movie_limpo['Title'] = dict_movie['Title']\n",
    "        dict_movie_limpo['rating_imdb'] = dict_movie['imdbRating']\n",
    "        dict_movie_limpo['rating_mc'] = dict_movie['Metascore']\n",
    "        dict_movie_limpo['imdb_id']= dict_movie['imdbID']\n",
    "        dict_movie_limpo['imdb_votes']= dict_movie['imdbVotes']\n",
    "        try:\n",
    "            dict_movie_limpo['Revenue']= dict_movie['BoxOffice']\n",
    "        except KeyError as e:\n",
    "            dict_movie_limpo['Revenue'] = \"n/a\"\n",
    "        return dict_movie_limpo\n",
    "    except KeyError as e:\n",
    "        print(\"filme com erro\")\n",
    "# [limpar_filme(filme) for filme in list_movies]"
   ]
  },
  {
   "cell_type": "code",
   "execution_count": 3,
   "id": "aadd545d",
   "metadata": {},
   "outputs": [],
   "source": [
    "# rodados 13400\n",
    "FILME_COMECO = 12400\n",
    "FILME_FIM = 13400"
   ]
  },
  {
   "cell_type": "code",
   "execution_count": 4,
   "id": "22cf2de7",
   "metadata": {},
   "outputs": [],
   "source": [
    "load_dotenv('mysql.env')\n",
    "url_banco = \"localhost\"\n",
    "nome_db = \"movie_db\"\n",
    "conn_str = f\"mysql+pymysql://{os.getenv('MYSQL_USER')}:{os.getenv('MYSQL_PASS')}@{url_banco}/{nome_db}\"\n",
    "engine = sa.create_engine(conn_str)"
   ]
  },
  {
   "cell_type": "code",
   "execution_count": 5,
   "id": "d960a66d",
   "metadata": {},
   "outputs": [],
   "source": [
    "df = pd.read_csv(\"movies_metadata.csv\", dtype = \"str\", parse_dates = [\"release_date\"])\n",
    "\n",
    "lista_id = list(df.imdb_id.values) \n",
    "\n",
    "mask = df[\"release_date\"]>\"2010-01-01\"\n",
    "df_2k10 = df[mask]\n",
    "\n",
    "imdbid_2k10 = list(df_2k10.imdb_id.values)"
   ]
  },
  {
   "cell_type": "code",
   "execution_count": 6,
   "id": "24a66b51",
   "metadata": {},
   "outputs": [
    {
     "data": {
      "text/plain": [
       "333"
      ]
     },
     "execution_count": 6,
     "metadata": {},
     "output_type": "execute_result"
    }
   ],
   "source": [
    "\n",
    "list_movies = []\n",
    "for i in imdbid_2k10[FILME_COMECO:FILME_FIM]:\n",
    "    try:\n",
    "        response = requests.get(\"https://www.omdbapi.com/?i={}&apikey=73324f26\".format(i))\n",
    "        response.raise_for_status()\n",
    "        movie = response.json()\n",
    "        list_movies.append(movie)\n",
    "    except HTTPError as e:\n",
    "        print(f'Falha na comunicação com o servidor:\\n {e}')\n",
    "        \n",
    "    \n",
    "dataFramemovies = pd.DataFrame([limpar_filme(filme) for filme in list_movies if limpar_filme(filme) is not None])\n",
    "dataFramemovies.head()\n",
    "\n",
    "\n",
    "dataFramemovies.to_sql('movies', engine, index = False, if_exists = 'append')    \n"
   ]
  }
 ],
 "metadata": {
  "kernelspec": {
   "display_name": "Python 3 (ipykernel)",
   "language": "python",
   "name": "python3"
  },
  "language_info": {
   "codemirror_mode": {
    "name": "ipython",
    "version": 3
   },
   "file_extension": ".py",
   "mimetype": "text/x-python",
   "name": "python",
   "nbconvert_exporter": "python",
   "pygments_lexer": "ipython3",
   "version": "3.9.13"
  }
 },
 "nbformat": 4,
 "nbformat_minor": 5
}
